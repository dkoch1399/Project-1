{
 "cells": [
  {
   "cell_type": "code",
   "execution_count": 1,
   "id": "3a56ddcb",
   "metadata": {},
   "outputs": [
    {
     "ename": "FileNotFoundError",
     "evalue": "[Errno 2] No such file or directory: 'Resources\\\\air_data.csv'",
     "output_type": "error",
     "traceback": [
      "\u001b[1;31m---------------------------------------------------------------------------\u001b[0m",
      "\u001b[1;31mFileNotFoundError\u001b[0m                         Traceback (most recent call last)",
      "Cell \u001b[1;32mIn[1], line 7\u001b[0m\n\u001b[0;32m      4\u001b[0m air_data_csv \u001b[38;5;241m=\u001b[39m Path(\u001b[38;5;124m\"\u001b[39m\u001b[38;5;124mResources/air_data.csv\u001b[39m\u001b[38;5;124m\"\u001b[39m)\n\u001b[0;32m      5\u001b[0m ev_sales_csv \u001b[38;5;241m=\u001b[39m Path(\u001b[38;5;124m\"\u001b[39m\u001b[38;5;124mResources/ev_sales.csv\u001b[39m\u001b[38;5;124m\"\u001b[39m)\n\u001b[1;32m----> 7\u001b[0m air_data \u001b[38;5;241m=\u001b[39m \u001b[43mpd\u001b[49m\u001b[38;5;241;43m.\u001b[39;49m\u001b[43mread_csv\u001b[49m\u001b[43m(\u001b[49m\u001b[43mair_data_csv\u001b[49m\u001b[43m)\u001b[49m\n\u001b[0;32m      8\u001b[0m ev_sales \u001b[38;5;241m=\u001b[39m pd\u001b[38;5;241m.\u001b[39mread_csv(ev_sales_csv)\n\u001b[0;32m     10\u001b[0m \u001b[38;5;28mprint\u001b[39m(air_data\u001b[38;5;241m.\u001b[39mcolumns)\n",
      "File \u001b[1;32m~\\anaconda3.0\\envs\\dev\\lib\\site-packages\\pandas\\util\\_decorators.py:211\u001b[0m, in \u001b[0;36mdeprecate_kwarg.<locals>._deprecate_kwarg.<locals>.wrapper\u001b[1;34m(*args, **kwargs)\u001b[0m\n\u001b[0;32m    209\u001b[0m     \u001b[38;5;28;01melse\u001b[39;00m:\n\u001b[0;32m    210\u001b[0m         kwargs[new_arg_name] \u001b[38;5;241m=\u001b[39m new_arg_value\n\u001b[1;32m--> 211\u001b[0m \u001b[38;5;28;01mreturn\u001b[39;00m func(\u001b[38;5;241m*\u001b[39margs, \u001b[38;5;241m*\u001b[39m\u001b[38;5;241m*\u001b[39mkwargs)\n",
      "File \u001b[1;32m~\\anaconda3.0\\envs\\dev\\lib\\site-packages\\pandas\\util\\_decorators.py:331\u001b[0m, in \u001b[0;36mdeprecate_nonkeyword_arguments.<locals>.decorate.<locals>.wrapper\u001b[1;34m(*args, **kwargs)\u001b[0m\n\u001b[0;32m    325\u001b[0m \u001b[38;5;28;01mif\u001b[39;00m \u001b[38;5;28mlen\u001b[39m(args) \u001b[38;5;241m>\u001b[39m num_allow_args:\n\u001b[0;32m    326\u001b[0m     warnings\u001b[38;5;241m.\u001b[39mwarn(\n\u001b[0;32m    327\u001b[0m         msg\u001b[38;5;241m.\u001b[39mformat(arguments\u001b[38;5;241m=\u001b[39m_format_argument_list(allow_args)),\n\u001b[0;32m    328\u001b[0m         \u001b[38;5;167;01mFutureWarning\u001b[39;00m,\n\u001b[0;32m    329\u001b[0m         stacklevel\u001b[38;5;241m=\u001b[39mfind_stack_level(),\n\u001b[0;32m    330\u001b[0m     )\n\u001b[1;32m--> 331\u001b[0m \u001b[38;5;28;01mreturn\u001b[39;00m func(\u001b[38;5;241m*\u001b[39margs, \u001b[38;5;241m*\u001b[39m\u001b[38;5;241m*\u001b[39mkwargs)\n",
      "File \u001b[1;32m~\\anaconda3.0\\envs\\dev\\lib\\site-packages\\pandas\\io\\parsers\\readers.py:950\u001b[0m, in \u001b[0;36mread_csv\u001b[1;34m(filepath_or_buffer, sep, delimiter, header, names, index_col, usecols, squeeze, prefix, mangle_dupe_cols, dtype, engine, converters, true_values, false_values, skipinitialspace, skiprows, skipfooter, nrows, na_values, keep_default_na, na_filter, verbose, skip_blank_lines, parse_dates, infer_datetime_format, keep_date_col, date_parser, dayfirst, cache_dates, iterator, chunksize, compression, thousands, decimal, lineterminator, quotechar, quoting, doublequote, escapechar, comment, encoding, encoding_errors, dialect, error_bad_lines, warn_bad_lines, on_bad_lines, delim_whitespace, low_memory, memory_map, float_precision, storage_options)\u001b[0m\n\u001b[0;32m    935\u001b[0m kwds_defaults \u001b[38;5;241m=\u001b[39m _refine_defaults_read(\n\u001b[0;32m    936\u001b[0m     dialect,\n\u001b[0;32m    937\u001b[0m     delimiter,\n\u001b[1;32m   (...)\u001b[0m\n\u001b[0;32m    946\u001b[0m     defaults\u001b[38;5;241m=\u001b[39m{\u001b[38;5;124m\"\u001b[39m\u001b[38;5;124mdelimiter\u001b[39m\u001b[38;5;124m\"\u001b[39m: \u001b[38;5;124m\"\u001b[39m\u001b[38;5;124m,\u001b[39m\u001b[38;5;124m\"\u001b[39m},\n\u001b[0;32m    947\u001b[0m )\n\u001b[0;32m    948\u001b[0m kwds\u001b[38;5;241m.\u001b[39mupdate(kwds_defaults)\n\u001b[1;32m--> 950\u001b[0m \u001b[38;5;28;01mreturn\u001b[39;00m \u001b[43m_read\u001b[49m\u001b[43m(\u001b[49m\u001b[43mfilepath_or_buffer\u001b[49m\u001b[43m,\u001b[49m\u001b[43m \u001b[49m\u001b[43mkwds\u001b[49m\u001b[43m)\u001b[49m\n",
      "File \u001b[1;32m~\\anaconda3.0\\envs\\dev\\lib\\site-packages\\pandas\\io\\parsers\\readers.py:605\u001b[0m, in \u001b[0;36m_read\u001b[1;34m(filepath_or_buffer, kwds)\u001b[0m\n\u001b[0;32m    602\u001b[0m _validate_names(kwds\u001b[38;5;241m.\u001b[39mget(\u001b[38;5;124m\"\u001b[39m\u001b[38;5;124mnames\u001b[39m\u001b[38;5;124m\"\u001b[39m, \u001b[38;5;28;01mNone\u001b[39;00m))\n\u001b[0;32m    604\u001b[0m \u001b[38;5;66;03m# Create the parser.\u001b[39;00m\n\u001b[1;32m--> 605\u001b[0m parser \u001b[38;5;241m=\u001b[39m TextFileReader(filepath_or_buffer, \u001b[38;5;241m*\u001b[39m\u001b[38;5;241m*\u001b[39mkwds)\n\u001b[0;32m    607\u001b[0m \u001b[38;5;28;01mif\u001b[39;00m chunksize \u001b[38;5;129;01mor\u001b[39;00m iterator:\n\u001b[0;32m    608\u001b[0m     \u001b[38;5;28;01mreturn\u001b[39;00m parser\n",
      "File \u001b[1;32m~\\anaconda3.0\\envs\\dev\\lib\\site-packages\\pandas\\io\\parsers\\readers.py:1442\u001b[0m, in \u001b[0;36mTextFileReader.__init__\u001b[1;34m(self, f, engine, **kwds)\u001b[0m\n\u001b[0;32m   1439\u001b[0m     \u001b[38;5;28mself\u001b[39m\u001b[38;5;241m.\u001b[39moptions[\u001b[38;5;124m\"\u001b[39m\u001b[38;5;124mhas_index_names\u001b[39m\u001b[38;5;124m\"\u001b[39m] \u001b[38;5;241m=\u001b[39m kwds[\u001b[38;5;124m\"\u001b[39m\u001b[38;5;124mhas_index_names\u001b[39m\u001b[38;5;124m\"\u001b[39m]\n\u001b[0;32m   1441\u001b[0m \u001b[38;5;28mself\u001b[39m\u001b[38;5;241m.\u001b[39mhandles: IOHandles \u001b[38;5;241m|\u001b[39m \u001b[38;5;28;01mNone\u001b[39;00m \u001b[38;5;241m=\u001b[39m \u001b[38;5;28;01mNone\u001b[39;00m\n\u001b[1;32m-> 1442\u001b[0m \u001b[38;5;28mself\u001b[39m\u001b[38;5;241m.\u001b[39m_engine \u001b[38;5;241m=\u001b[39m \u001b[38;5;28;43mself\u001b[39;49m\u001b[38;5;241;43m.\u001b[39;49m\u001b[43m_make_engine\u001b[49m\u001b[43m(\u001b[49m\u001b[43mf\u001b[49m\u001b[43m,\u001b[49m\u001b[43m \u001b[49m\u001b[38;5;28;43mself\u001b[39;49m\u001b[38;5;241;43m.\u001b[39;49m\u001b[43mengine\u001b[49m\u001b[43m)\u001b[49m\n",
      "File \u001b[1;32m~\\anaconda3.0\\envs\\dev\\lib\\site-packages\\pandas\\io\\parsers\\readers.py:1735\u001b[0m, in \u001b[0;36mTextFileReader._make_engine\u001b[1;34m(self, f, engine)\u001b[0m\n\u001b[0;32m   1733\u001b[0m     \u001b[38;5;28;01mif\u001b[39;00m \u001b[38;5;124m\"\u001b[39m\u001b[38;5;124mb\u001b[39m\u001b[38;5;124m\"\u001b[39m \u001b[38;5;129;01mnot\u001b[39;00m \u001b[38;5;129;01min\u001b[39;00m mode:\n\u001b[0;32m   1734\u001b[0m         mode \u001b[38;5;241m+\u001b[39m\u001b[38;5;241m=\u001b[39m \u001b[38;5;124m\"\u001b[39m\u001b[38;5;124mb\u001b[39m\u001b[38;5;124m\"\u001b[39m\n\u001b[1;32m-> 1735\u001b[0m \u001b[38;5;28mself\u001b[39m\u001b[38;5;241m.\u001b[39mhandles \u001b[38;5;241m=\u001b[39m \u001b[43mget_handle\u001b[49m\u001b[43m(\u001b[49m\n\u001b[0;32m   1736\u001b[0m \u001b[43m    \u001b[49m\u001b[43mf\u001b[49m\u001b[43m,\u001b[49m\n\u001b[0;32m   1737\u001b[0m \u001b[43m    \u001b[49m\u001b[43mmode\u001b[49m\u001b[43m,\u001b[49m\n\u001b[0;32m   1738\u001b[0m \u001b[43m    \u001b[49m\u001b[43mencoding\u001b[49m\u001b[38;5;241;43m=\u001b[39;49m\u001b[38;5;28;43mself\u001b[39;49m\u001b[38;5;241;43m.\u001b[39;49m\u001b[43moptions\u001b[49m\u001b[38;5;241;43m.\u001b[39;49m\u001b[43mget\u001b[49m\u001b[43m(\u001b[49m\u001b[38;5;124;43m\"\u001b[39;49m\u001b[38;5;124;43mencoding\u001b[39;49m\u001b[38;5;124;43m\"\u001b[39;49m\u001b[43m,\u001b[49m\u001b[43m \u001b[49m\u001b[38;5;28;43;01mNone\u001b[39;49;00m\u001b[43m)\u001b[49m\u001b[43m,\u001b[49m\n\u001b[0;32m   1739\u001b[0m \u001b[43m    \u001b[49m\u001b[43mcompression\u001b[49m\u001b[38;5;241;43m=\u001b[39;49m\u001b[38;5;28;43mself\u001b[39;49m\u001b[38;5;241;43m.\u001b[39;49m\u001b[43moptions\u001b[49m\u001b[38;5;241;43m.\u001b[39;49m\u001b[43mget\u001b[49m\u001b[43m(\u001b[49m\u001b[38;5;124;43m\"\u001b[39;49m\u001b[38;5;124;43mcompression\u001b[39;49m\u001b[38;5;124;43m\"\u001b[39;49m\u001b[43m,\u001b[49m\u001b[43m \u001b[49m\u001b[38;5;28;43;01mNone\u001b[39;49;00m\u001b[43m)\u001b[49m\u001b[43m,\u001b[49m\n\u001b[0;32m   1740\u001b[0m \u001b[43m    \u001b[49m\u001b[43mmemory_map\u001b[49m\u001b[38;5;241;43m=\u001b[39;49m\u001b[38;5;28;43mself\u001b[39;49m\u001b[38;5;241;43m.\u001b[39;49m\u001b[43moptions\u001b[49m\u001b[38;5;241;43m.\u001b[39;49m\u001b[43mget\u001b[49m\u001b[43m(\u001b[49m\u001b[38;5;124;43m\"\u001b[39;49m\u001b[38;5;124;43mmemory_map\u001b[39;49m\u001b[38;5;124;43m\"\u001b[39;49m\u001b[43m,\u001b[49m\u001b[43m \u001b[49m\u001b[38;5;28;43;01mFalse\u001b[39;49;00m\u001b[43m)\u001b[49m\u001b[43m,\u001b[49m\n\u001b[0;32m   1741\u001b[0m \u001b[43m    \u001b[49m\u001b[43mis_text\u001b[49m\u001b[38;5;241;43m=\u001b[39;49m\u001b[43mis_text\u001b[49m\u001b[43m,\u001b[49m\n\u001b[0;32m   1742\u001b[0m \u001b[43m    \u001b[49m\u001b[43merrors\u001b[49m\u001b[38;5;241;43m=\u001b[39;49m\u001b[38;5;28;43mself\u001b[39;49m\u001b[38;5;241;43m.\u001b[39;49m\u001b[43moptions\u001b[49m\u001b[38;5;241;43m.\u001b[39;49m\u001b[43mget\u001b[49m\u001b[43m(\u001b[49m\u001b[38;5;124;43m\"\u001b[39;49m\u001b[38;5;124;43mencoding_errors\u001b[39;49m\u001b[38;5;124;43m\"\u001b[39;49m\u001b[43m,\u001b[49m\u001b[43m \u001b[49m\u001b[38;5;124;43m\"\u001b[39;49m\u001b[38;5;124;43mstrict\u001b[39;49m\u001b[38;5;124;43m\"\u001b[39;49m\u001b[43m)\u001b[49m\u001b[43m,\u001b[49m\n\u001b[0;32m   1743\u001b[0m \u001b[43m    \u001b[49m\u001b[43mstorage_options\u001b[49m\u001b[38;5;241;43m=\u001b[39;49m\u001b[38;5;28;43mself\u001b[39;49m\u001b[38;5;241;43m.\u001b[39;49m\u001b[43moptions\u001b[49m\u001b[38;5;241;43m.\u001b[39;49m\u001b[43mget\u001b[49m\u001b[43m(\u001b[49m\u001b[38;5;124;43m\"\u001b[39;49m\u001b[38;5;124;43mstorage_options\u001b[39;49m\u001b[38;5;124;43m\"\u001b[39;49m\u001b[43m,\u001b[49m\u001b[43m \u001b[49m\u001b[38;5;28;43;01mNone\u001b[39;49;00m\u001b[43m)\u001b[49m\u001b[43m,\u001b[49m\n\u001b[0;32m   1744\u001b[0m \u001b[43m\u001b[49m\u001b[43m)\u001b[49m\n\u001b[0;32m   1745\u001b[0m \u001b[38;5;28;01massert\u001b[39;00m \u001b[38;5;28mself\u001b[39m\u001b[38;5;241m.\u001b[39mhandles \u001b[38;5;129;01mis\u001b[39;00m \u001b[38;5;129;01mnot\u001b[39;00m \u001b[38;5;28;01mNone\u001b[39;00m\n\u001b[0;32m   1746\u001b[0m f \u001b[38;5;241m=\u001b[39m \u001b[38;5;28mself\u001b[39m\u001b[38;5;241m.\u001b[39mhandles\u001b[38;5;241m.\u001b[39mhandle\n",
      "File \u001b[1;32m~\\anaconda3.0\\envs\\dev\\lib\\site-packages\\pandas\\io\\common.py:856\u001b[0m, in \u001b[0;36mget_handle\u001b[1;34m(path_or_buf, mode, encoding, compression, memory_map, is_text, errors, storage_options)\u001b[0m\n\u001b[0;32m    851\u001b[0m \u001b[38;5;28;01melif\u001b[39;00m \u001b[38;5;28misinstance\u001b[39m(handle, \u001b[38;5;28mstr\u001b[39m):\n\u001b[0;32m    852\u001b[0m     \u001b[38;5;66;03m# Check whether the filename is to be opened in binary mode.\u001b[39;00m\n\u001b[0;32m    853\u001b[0m     \u001b[38;5;66;03m# Binary mode does not support 'encoding' and 'newline'.\u001b[39;00m\n\u001b[0;32m    854\u001b[0m     \u001b[38;5;28;01mif\u001b[39;00m ioargs\u001b[38;5;241m.\u001b[39mencoding \u001b[38;5;129;01mand\u001b[39;00m \u001b[38;5;124m\"\u001b[39m\u001b[38;5;124mb\u001b[39m\u001b[38;5;124m\"\u001b[39m \u001b[38;5;129;01mnot\u001b[39;00m \u001b[38;5;129;01min\u001b[39;00m ioargs\u001b[38;5;241m.\u001b[39mmode:\n\u001b[0;32m    855\u001b[0m         \u001b[38;5;66;03m# Encoding\u001b[39;00m\n\u001b[1;32m--> 856\u001b[0m         handle \u001b[38;5;241m=\u001b[39m \u001b[38;5;28;43mopen\u001b[39;49m\u001b[43m(\u001b[49m\n\u001b[0;32m    857\u001b[0m \u001b[43m            \u001b[49m\u001b[43mhandle\u001b[49m\u001b[43m,\u001b[49m\n\u001b[0;32m    858\u001b[0m \u001b[43m            \u001b[49m\u001b[43mioargs\u001b[49m\u001b[38;5;241;43m.\u001b[39;49m\u001b[43mmode\u001b[49m\u001b[43m,\u001b[49m\n\u001b[0;32m    859\u001b[0m \u001b[43m            \u001b[49m\u001b[43mencoding\u001b[49m\u001b[38;5;241;43m=\u001b[39;49m\u001b[43mioargs\u001b[49m\u001b[38;5;241;43m.\u001b[39;49m\u001b[43mencoding\u001b[49m\u001b[43m,\u001b[49m\n\u001b[0;32m    860\u001b[0m \u001b[43m            \u001b[49m\u001b[43merrors\u001b[49m\u001b[38;5;241;43m=\u001b[39;49m\u001b[43merrors\u001b[49m\u001b[43m,\u001b[49m\n\u001b[0;32m    861\u001b[0m \u001b[43m            \u001b[49m\u001b[43mnewline\u001b[49m\u001b[38;5;241;43m=\u001b[39;49m\u001b[38;5;124;43m\"\u001b[39;49m\u001b[38;5;124;43m\"\u001b[39;49m\u001b[43m,\u001b[49m\n\u001b[0;32m    862\u001b[0m \u001b[43m        \u001b[49m\u001b[43m)\u001b[49m\n\u001b[0;32m    863\u001b[0m     \u001b[38;5;28;01melse\u001b[39;00m:\n\u001b[0;32m    864\u001b[0m         \u001b[38;5;66;03m# Binary mode\u001b[39;00m\n\u001b[0;32m    865\u001b[0m         handle \u001b[38;5;241m=\u001b[39m \u001b[38;5;28mopen\u001b[39m(handle, ioargs\u001b[38;5;241m.\u001b[39mmode)\n",
      "\u001b[1;31mFileNotFoundError\u001b[0m: [Errno 2] No such file or directory: 'Resources\\\\air_data.csv'"
     ]
    }
   ],
   "source": [
    "import pandas as pd\n",
    "from pathlib import Path\n",
    "\n",
    "air_data_csv = Path(\"Resources/air_data.csv\")\n",
    "ev_sales_csv = Path(\"Resources/ev_sales.csv\")\n",
    "\n",
    "air_data = pd.read_csv(air_data_csv)\n",
    "ev_sales = pd.read_csv(ev_sales_csv)\n",
    "\n",
    "print(air_data.columns)\n",
    "print(ev_sales.columns)"
   ]
  },
  {
   "cell_type": "code",
   "execution_count": null,
   "id": "119773be",
   "metadata": {},
   "outputs": [],
   "source": [
    "air_data"
   ]
  },
  {
   "cell_type": "code",
   "execution_count": null,
   "id": "f13cde1f",
   "metadata": {},
   "outputs": [],
   "source": [
    "ev_sales"
   ]
  },
  {
   "cell_type": "code",
   "execution_count": null,
   "id": "55cba682",
   "metadata": {},
   "outputs": [],
   "source": [
    "ev_data_complete = pd.merge(air_data, ev_sales, how=\"left\", on=[\"county\", \"year\"])\n",
    "ev_data_complete"
   ]
  },
  {
   "cell_type": "code",
   "execution_count": null,
   "id": "a531fc72",
   "metadata": {},
   "outputs": [],
   "source": [
    "ev_data_complete = ev_data_complete.drop(columns=[\"Unnamed: 3\"])"
   ]
  },
  {
   "cell_type": "code",
   "execution_count": null,
   "id": "31f74333",
   "metadata": {},
   "outputs": [],
   "source": [
    "#Cleaned data and merged\n",
    "ev_data_complete"
   ]
  },
  {
   "cell_type": "code",
   "execution_count": null,
   "id": "69d0ba44",
   "metadata": {},
   "outputs": [],
   "source": [
    "#Total number of years\n",
    "num_years = ev_data_complete['year'].nunique()\n",
    "num_years"
   ]
  },
  {
   "cell_type": "code",
   "execution_count": null,
   "id": "745e0035",
   "metadata": {},
   "outputs": [],
   "source": [
    "# Total number of unique counties\n",
    "num_counties = ev_data_complete['county'].nunique()\n",
    "num_counties"
   ]
  },
  {
   "cell_type": "code",
   "execution_count": null,
   "id": "ed23619d",
   "metadata": {},
   "outputs": [],
   "source": [
    "# Total number of unique cities\n",
    "num_cities = ev_data_complete['City Name'].nunique()\n",
    "num_cities"
   ]
  },
  {
   "cell_type": "code",
   "execution_count": null,
   "id": "328e92f5",
   "metadata": {},
   "outputs": [],
   "source": [
    "total_vehicles_by_year = ev_data_complete.groupby(\"year\")[\"Number of Vehicles\"].sum()\n",
    "total_vehicles_by_year"
   ]
  },
  {
   "cell_type": "code",
   "execution_count": null,
   "id": "d5951166",
   "metadata": {},
   "outputs": [],
   "source": [
    "ev_data_complete.groupby('year').agg({'no2 avg': 'mean', 'no2 aqi': 'mean', 'ozone avg': 'mean', 'ozone aqi': 'mean', 'Number of Vehicles': 'sum'})"
   ]
  },
  {
   "cell_type": "code",
   "execution_count": null,
   "id": "44037d78",
   "metadata": {},
   "outputs": [],
   "source": [
    "ev_data_complete.groupby(['year', 'county'])[['no2 avg', 'no2 aqi', 'ozone avg', 'ozone aqi','Number of Vehicles']].mean()"
   ]
  },
  {
   "cell_type": "code",
   "execution_count": null,
   "id": "0fbd8e35",
   "metadata": {},
   "outputs": [],
   "source": [
    "import matplotlib.pyplot as plt\n",
    "import numpy as np\n",
    "\n",
    "# group the data by county and calculate the sum of vehicles and mean of no2 avg and ozone avg\n",
    "county_data = ev_data_complete.groupby('county').agg({'Number of Vehicles': 'sum', 'no2 avg': 'mean', 'ozone avg': 'mean'})\n",
    "\n",
    "# create the bar chart\n",
    "fig, ax = plt.subplots()\n",
    "ax.set_xticks(np.arange(len(county_data)))\n",
    "ax.set_xticklabels(county_data.index.tolist(), rotation=90)\n",
    "ax.set_ylabel('NO2 Average (parts per billion)')\n",
    "ax.set_title('NO2 Average per County')\n",
    "width = 0.5\n",
    "offset = 0\n",
    "ax.bar(np.arange(len(county_data)) + offset, county_data['no2 avg'].values, width=width, label='NO2 Average', color='red')\n",
    "\n",
    "# add numbers on top of the bars\n",
    "for i, v in enumerate(county_data['no2 avg'].values):\n",
    "    ax.text(i, v + 0.05, str(round(v,2)), color='black', ha='center', fontsize=12)\n",
    "\n",
    "ax.legend()\n",
    "\n",
    "# show the plot\n",
    "plt.show()\n"
   ]
  },
  {
   "cell_type": "code",
   "execution_count": null,
   "id": "db9a5538",
   "metadata": {},
   "outputs": [],
   "source": [
    "import matplotlib.pyplot as plt\n",
    "import numpy as np\n",
    "\n",
    "# group the data by county and calculate the sum of vehicles and mean of no2 avg and ozone avg\n",
    "county_data = ev_data_complete.groupby('county').agg({'Number of Vehicles': 'sum', 'no2 avg': 'mean', 'ozone avg': 'mean'})\n",
    "\n",
    "# create the bar chart\n",
    "fig, ax = plt.subplots()\n",
    "ax.set_xticks(np.arange(len(county_data)))\n",
    "ax.set_xticklabels(county_data.index.tolist(), rotation=90)\n",
    "ax.set_ylabel('Ozone Average (parts per million)')\n",
    "ax.set_title('Ozone Average per County')\n",
    "width = 0.5\n",
    "offset = 0\n",
    "ax.bar(np.arange(len(county_data)) + offset, county_data['ozone avg'].values, width=width, label='Ozone Average', color='green')\n",
    "\n",
    "# add numbers on top of the bars\n",
    "for i, v in enumerate(county_data['ozone avg'].values):\n",
    "    ax.text(i, v + 0.0002, '{:,.3f}'.format(v), color='black', ha='center', fontsize=12)\n",
    "\n",
    "ax.legend()\n",
    "\n",
    "# show the plot\n",
    "plt.show()\n"
   ]
  },
  {
   "cell_type": "code",
   "execution_count": null,
   "id": "c912ee5e",
   "metadata": {},
   "outputs": [],
   "source": [
    "import matplotlib.pyplot as plt\n",
    "import matplotlib.ticker as mtick\n",
    "\n",
    "vehicles_per_year = ev_data_complete.groupby('year')['Number of Vehicles'].sum()\n",
    "ax = vehicles_per_year.plot(kind='bar')\n",
    "ax.yaxis.set_major_formatter(mtick.StrMethodFormatter('{x:,.0f}'))\n",
    "plt.xlabel('Year')\n",
    "plt.ylabel('Number of Vehicles')\n",
    "plt.title('Number of Vehicles per Year')\n",
    "\n",
    "# add numbers on top of the bars\n",
    "for i, v in enumerate(vehicles_per_year):\n",
    "    ax.text(i, v + 10000, f'{v:,.0f}', color='black', ha='center', fontsize=10)\n",
    "\n",
    "plt.show()"
   ]
  },
  {
   "cell_type": "code",
   "execution_count": null,
   "id": "010fe3cc",
   "metadata": {},
   "outputs": [],
   "source": [
    "import matplotlib.pyplot as plt\n",
    "import matplotlib.ticker as mtick\n",
    "\n",
    "no2_avg_per_year = ev_data_complete.groupby('year')['no2 avg'].mean()\n",
    "ax = no2_avg_per_year.plot(kind='bar', color='red')\n",
    "ax.yaxis.set_major_formatter(mtick.StrMethodFormatter('{x:,.2f}'))\n",
    "plt.xlabel('Year')\n",
    "plt.ylabel('NO2 Average (parts per billion)')\n",
    "plt.title('NO2 Average per Year')\n",
    "\n",
    "# add numbers on top of the bars\n",
    "for i, v in enumerate(no2_avg_per_year.values):\n",
    "    ax.text(i, v + 0.05, str(round(v,2)), color='black', ha='center', fontsize=12)\n",
    "\n",
    "plt.show()"
   ]
  },
  {
   "cell_type": "code",
   "execution_count": null,
   "id": "75546db1",
   "metadata": {},
   "outputs": [],
   "source": [
    "import numpy as np\n",
    "from scipy import stats\n",
    "\n",
    "no2_avg_per_year = ev_data_complete.groupby('year')['no2 avg'].mean()\n",
    "\n",
    "# perform linear regression\n",
    "x = np.arange(len(no2_avg_per_year))\n",
    "slope, intercept, r_value, p_value, std_err = stats.linregress(x, no2_avg_per_year)\n",
    "xticks = [2018, 2019, 2020, 2021, 2022]\n",
    "# plot data and regression line\n",
    "plt.scatter(x, no2_avg_per_year, color='red')\n",
    "plt.plot(x, intercept + slope*x, color='blue')\n",
    "plt.xticks(range(len(xticks)), xticks)\n",
    "plt.xlabel('Year')\n",
    "plt.ylabel('NO2 Average (parts per billion)')\n",
    "plt.title('NO2 Average per Year')\n",
    "print(f\"The r value is: {r_value}\")\n",
    "plt.show()\n"
   ]
  },
  {
   "cell_type": "code",
   "execution_count": null,
   "id": "80b27012",
   "metadata": {
    "scrolled": false
   },
   "outputs": [],
   "source": [
    "import matplotlib.pyplot as plt\n",
    "import matplotlib.ticker as mtick\n",
    "\n",
    "ozone_avg_per_year = ev_data_complete.groupby('year')['ozone avg'].mean()\n",
    "ax = ozone_avg_per_year.plot(kind='bar', color='green')\n",
    "ax.yaxis.set_major_formatter(mtick.StrMethodFormatter('{x:,.2f}'))\n",
    "plt.xlabel('Year')\n",
    "plt.ylabel('Ozone Average (parts per million)')\n",
    "plt.title('Ozone Average per Year')\n",
    "\n",
    "# add numbers on top of the bars\n",
    "for i, v in enumerate(ozone_avg_per_year.values):\n",
    "    ax.text(i, v + 0.0002, str(round(v,5)), color='black', ha='center', fontsize=12)\n",
    "\n",
    "plt.show()\n"
   ]
  },
  {
   "cell_type": "code",
   "execution_count": null,
   "id": "9c4a322b",
   "metadata": {},
   "outputs": [],
   "source": [
    "ozone_avg_per_year = ev_data_complete.groupby('year')['ozone avg'].mean()\n",
    "\n",
    "# perform linear regression\n",
    "x = np.arange(len(ozone_avg_per_year))\n",
    "slope, intercept, r_value, p_value, std_err = stats.linregress(x, ozone_avg_per_year)\n",
    "xticks = [2018, 2019, 2020, 2021, 2022]\n",
    "# plot data and regression line\n",
    "plt.scatter(x, ozone_avg_per_year, color='red')\n",
    "plt.plot(x, intercept + slope*x, color='blue')\n",
    "plt.xticks(range(len(xticks)), xticks)\n",
    "plt.xlabel('Year')\n",
    "plt.ylabel('Ozone Average (parts per million)')\n",
    "plt.title('Ozone Average per Year')\n",
    "print(f\"The r value is: {r_value}\")\n",
    "plt.show()"
   ]
  },
  {
   "cell_type": "code",
   "execution_count": null,
   "id": "257a5199",
   "metadata": {},
   "outputs": [],
   "source": [
    "ozone_avg_per_year = ev_data_complete.groupby('year')['ozone avg'].mean()\n",
    "no2_avg_per_year = ev_data_complete.groupby('year')['no2 avg'].mean()\n",
    "vehicles_per_year = ev_data_complete.groupby('year')['Number of Vehicles'].sum()\n",
    "\n",
    "fig, ax = plt.subplots()\n",
    "ax = ozone_avg_per_year.plot(kind='line', color='green')\n",
    "ax = no2_avg_per_year.plot(kind='line', color='red')\n",
    "#ax = vehicles_per_year.plot(kind='line', color='blue')\n",
    "\n",
    "plt.legend()\n",
    "\n",
    "plt.show()\n"
   ]
  }
 ],
 "metadata": {
  "kernelspec": {
   "display_name": "Python 3 (ipykernel)",
   "language": "python",
   "name": "python3"
  },
  "language_info": {
   "codemirror_mode": {
    "name": "ipython",
    "version": 3
   },
   "file_extension": ".py",
   "mimetype": "text/x-python",
   "name": "python",
   "nbconvert_exporter": "python",
   "pygments_lexer": "ipython3",
   "version": "3.10.10"
  }
 },
 "nbformat": 4,
 "nbformat_minor": 5
}
